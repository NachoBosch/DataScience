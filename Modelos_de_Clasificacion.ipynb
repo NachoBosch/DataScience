{
  "cells": [
    {
      "cell_type": "markdown",
      "metadata": {
        "id": "view-in-github",
        "colab_type": "text"
      },
      "source": [
        "<a href=\"https://colab.research.google.com/github/NachoBosch/DataScience/blob/main/Modelos_de_Clasificacion.ipynb\" target=\"_parent\"><img src=\"https://colab.research.google.com/assets/colab-badge.svg\" alt=\"Open In Colab\"/></a>"
      ]
    },
    {
      "cell_type": "markdown",
      "metadata": {
        "id": "0a228a7e"
      },
      "source": [
        "# Modelos de Clasificación con SciKit-Learn "
      ],
      "id": "0a228a7e"
    },
    {
      "cell_type": "code",
      "execution_count": null,
      "metadata": {
        "id": "16ceb68a"
      },
      "outputs": [],
      "source": [
        "import numpy as np\n",
        "import pandas as pd\n",
        "import matplotlib as mlt\n",
        "import matplotlib.pyplot as plt\n",
        "%matplotlib inline\n",
        "import seaborn as sns"
      ],
      "id": "16ceb68a"
    },
    {
      "cell_type": "code",
      "execution_count": null,
      "metadata": {
        "id": "eabef1a2"
      },
      "outputs": [],
      "source": [
        "from sklearn.model_selection import train_test_split\n",
        "from sklearn.preprocessing import StandardScaler\n",
        "from sklearn.linear_model import LogisticRegression\n",
        "from sklearn.metrics import accuracy_score, confusion_matrix, classification_report, recall_score, fbeta_score\n",
        "from sklearn.naive_bayes import GaussianNB\n",
        "from sklearn.tree import DecisionTreeClassifier\n",
        "from sklearn.ensemble import AdaBoostClassifier\n",
        "from sklearn.metrics import make_scorer\n",
        "from sklearn.model_selection import GridSearchCV"
      ],
      "id": "eabef1a2"
    },
    {
      "cell_type": "markdown",
      "metadata": {
        "id": "1a023078"
      },
      "source": [
        "+ ## Descripción y Exploración del Dataset:"
      ],
      "id": "1a023078"
    },
    {
      "cell_type": "markdown",
      "metadata": {
        "id": "c7b5a626"
      },
      "source": [
        "El dataset cuenta con las siguientes variables:\n",
        "- ``age``: Edad.\n",
        "- ``male``: Género.\n",
        "- ``education``: 1 = Some High School; 2 = High School or GED; 3 = Some College or Vocational School; 4 = college\n",
        "- ``currentSmoker``: Si la persona fuma o no\n",
        "- ``cigsPerDay``: la cantidad de cigarrillos que la persona fuma por día en promedio.\n",
        "- ``BPMeds``: si la persona consume medicación para la presión sanguínea.\n",
        "- ``prevalentStroke``: Si la persona tuvo un infarto anteriormente.\n",
        "- ``prevalentHyp``: si la persona tiene hipertensión.\n",
        "- ``diabetes``: si la persona tuvo diabetes.\n",
        "- ``totChol``: nivel de colesterol total.\n",
        "- ``sysBP``: presión sanguínea sistólica.\n",
        "- ``diaBP``: presión sanguínea diastólica.\n",
        "- ``BMI``: índice de masa corporal.\n",
        "- ``heartRate``: frecuencia cardíaca.\n",
        "- ``glucose``: nivel de glucosa en sangre.\n",
        "- ``TenYearCHD``: si la persona está en riesgo de tener una enfermedad coronaria dentro de los próximos 10 años.\n",
        "\n",
        "Para obtener más información sobre las variables, buscar en https://www.kaggle.com/datasets/aasheesh200/framingham-heart-study-dataset"
      ],
      "id": "c7b5a626"
    },
    {
      "cell_type": "code",
      "execution_count": null,
      "metadata": {
        "id": "qFRc3WSC67Y8"
      },
      "outputs": [],
      "source": [
        "from google.colab import files"
      ],
      "id": "qFRc3WSC67Y8"
    },
    {
      "cell_type": "code",
      "execution_count": null,
      "metadata": {
        "colab": {
          "base_uri": "https://localhost:8080/",
          "height": 73,
          "resources": {
            "http://localhost:8080/nbextensions/google.colab/files.js": {
              "data": "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",
              "headers": [
                [
                  "content-type",
                  "application/javascript"
                ]
              ],
              "ok": true,
              "status": 200,
              "status_text": ""
            }
          }
        },
        "id": "kYEtlpQ96-30",
        "outputId": "c7bb2862-74ad-4124-91ab-53b31994bf65"
      },
      "outputs": [
        {
          "output_type": "display_data",
          "data": {
            "text/plain": [
              "<IPython.core.display.HTML object>"
            ],
            "text/html": [
              "\n",
              "     <input type=\"file\" id=\"files-553d7f3c-667c-489e-863b-7fdb3ea11d46\" name=\"files[]\" multiple disabled\n",
              "        style=\"border:none\" />\n",
              "     <output id=\"result-553d7f3c-667c-489e-863b-7fdb3ea11d46\">\n",
              "      Upload widget is only available when the cell has been executed in the\n",
              "      current browser session. Please rerun this cell to enable.\n",
              "      </output>\n",
              "      <script src=\"/nbextensions/google.colab/files.js\"></script> "
            ]
          },
          "metadata": {}
        },
        {
          "output_type": "stream",
          "name": "stdout",
          "text": [
            "Saving framingham.csv to framingham.csv\n"
          ]
        }
      ],
      "source": [
        "uploaded = files.upload()"
      ],
      "id": "kYEtlpQ96-30"
    },
    {
      "cell_type": "code",
      "execution_count": null,
      "metadata": {
        "colab": {
          "base_uri": "https://localhost:8080/",
          "height": 270
        },
        "id": "11df539e",
        "outputId": "a3868e39-9cd8-4302-ddbe-3311a5557966"
      },
      "outputs": [
        {
          "output_type": "execute_result",
          "data": {
            "text/plain": [
              "   male  age  education  currentSmoker  cigsPerDay  BPMeds  prevalentStroke  \\\n",
              "0     1   39        4.0              0         0.0     0.0                0   \n",
              "1     0   46        2.0              0         0.0     0.0                0   \n",
              "2     1   48        1.0              1        20.0     0.0                0   \n",
              "3     0   61        3.0              1        30.0     0.0                0   \n",
              "4     0   46        3.0              1        23.0     0.0                0   \n",
              "\n",
              "   prevalentHyp  diabetes  totChol  sysBP  diaBP    BMI  heartRate  glucose  \\\n",
              "0             0         0    195.0  106.0   70.0  26.97       80.0     77.0   \n",
              "1             0         0    250.0  121.0   81.0  28.73       95.0     76.0   \n",
              "2             0         0    245.0  127.5   80.0  25.34       75.0     70.0   \n",
              "3             1         0    225.0  150.0   95.0  28.58       65.0    103.0   \n",
              "4             0         0    285.0  130.0   84.0  23.10       85.0     85.0   \n",
              "\n",
              "   TenYearCHD  \n",
              "0           0  \n",
              "1           0  \n",
              "2           0  \n",
              "3           1  \n",
              "4           0  "
            ],
            "text/html": [
              "\n",
              "  <div id=\"df-cc1609d9-825a-4242-ba1a-5e756a7baf26\">\n",
              "    <div class=\"colab-df-container\">\n",
              "      <div>\n",
              "<style scoped>\n",
              "    .dataframe tbody tr th:only-of-type {\n",
              "        vertical-align: middle;\n",
              "    }\n",
              "\n",
              "    .dataframe tbody tr th {\n",
              "        vertical-align: top;\n",
              "    }\n",
              "\n",
              "    .dataframe thead th {\n",
              "        text-align: right;\n",
              "    }\n",
              "</style>\n",
              "<table border=\"1\" class=\"dataframe\">\n",
              "  <thead>\n",
              "    <tr style=\"text-align: right;\">\n",
              "      <th></th>\n",
              "      <th>male</th>\n",
              "      <th>age</th>\n",
              "      <th>education</th>\n",
              "      <th>currentSmoker</th>\n",
              "      <th>cigsPerDay</th>\n",
              "      <th>BPMeds</th>\n",
              "      <th>prevalentStroke</th>\n",
              "      <th>prevalentHyp</th>\n",
              "      <th>diabetes</th>\n",
              "      <th>totChol</th>\n",
              "      <th>sysBP</th>\n",
              "      <th>diaBP</th>\n",
              "      <th>BMI</th>\n",
              "      <th>heartRate</th>\n",
              "      <th>glucose</th>\n",
              "      <th>TenYearCHD</th>\n",
              "    </tr>\n",
              "  </thead>\n",
              "  <tbody>\n",
              "    <tr>\n",
              "      <th>0</th>\n",
              "      <td>1</td>\n",
              "      <td>39</td>\n",
              "      <td>4.0</td>\n",
              "      <td>0</td>\n",
              "      <td>0.0</td>\n",
              "      <td>0.0</td>\n",
              "      <td>0</td>\n",
              "      <td>0</td>\n",
              "      <td>0</td>\n",
              "      <td>195.0</td>\n",
              "      <td>106.0</td>\n",
              "      <td>70.0</td>\n",
              "      <td>26.97</td>\n",
              "      <td>80.0</td>\n",
              "      <td>77.0</td>\n",
              "      <td>0</td>\n",
              "    </tr>\n",
              "    <tr>\n",
              "      <th>1</th>\n",
              "      <td>0</td>\n",
              "      <td>46</td>\n",
              "      <td>2.0</td>\n",
              "      <td>0</td>\n",
              "      <td>0.0</td>\n",
              "      <td>0.0</td>\n",
              "      <td>0</td>\n",
              "      <td>0</td>\n",
              "      <td>0</td>\n",
              "      <td>250.0</td>\n",
              "      <td>121.0</td>\n",
              "      <td>81.0</td>\n",
              "      <td>28.73</td>\n",
              "      <td>95.0</td>\n",
              "      <td>76.0</td>\n",
              "      <td>0</td>\n",
              "    </tr>\n",
              "    <tr>\n",
              "      <th>2</th>\n",
              "      <td>1</td>\n",
              "      <td>48</td>\n",
              "      <td>1.0</td>\n",
              "      <td>1</td>\n",
              "      <td>20.0</td>\n",
              "      <td>0.0</td>\n",
              "      <td>0</td>\n",
              "      <td>0</td>\n",
              "      <td>0</td>\n",
              "      <td>245.0</td>\n",
              "      <td>127.5</td>\n",
              "      <td>80.0</td>\n",
              "      <td>25.34</td>\n",
              "      <td>75.0</td>\n",
              "      <td>70.0</td>\n",
              "      <td>0</td>\n",
              "    </tr>\n",
              "    <tr>\n",
              "      <th>3</th>\n",
              "      <td>0</td>\n",
              "      <td>61</td>\n",
              "      <td>3.0</td>\n",
              "      <td>1</td>\n",
              "      <td>30.0</td>\n",
              "      <td>0.0</td>\n",
              "      <td>0</td>\n",
              "      <td>1</td>\n",
              "      <td>0</td>\n",
              "      <td>225.0</td>\n",
              "      <td>150.0</td>\n",
              "      <td>95.0</td>\n",
              "      <td>28.58</td>\n",
              "      <td>65.0</td>\n",
              "      <td>103.0</td>\n",
              "      <td>1</td>\n",
              "    </tr>\n",
              "    <tr>\n",
              "      <th>4</th>\n",
              "      <td>0</td>\n",
              "      <td>46</td>\n",
              "      <td>3.0</td>\n",
              "      <td>1</td>\n",
              "      <td>23.0</td>\n",
              "      <td>0.0</td>\n",
              "      <td>0</td>\n",
              "      <td>0</td>\n",
              "      <td>0</td>\n",
              "      <td>285.0</td>\n",
              "      <td>130.0</td>\n",
              "      <td>84.0</td>\n",
              "      <td>23.10</td>\n",
              "      <td>85.0</td>\n",
              "      <td>85.0</td>\n",
              "      <td>0</td>\n",
              "    </tr>\n",
              "  </tbody>\n",
              "</table>\n",
              "</div>\n",
              "      <button class=\"colab-df-convert\" onclick=\"convertToInteractive('df-cc1609d9-825a-4242-ba1a-5e756a7baf26')\"\n",
              "              title=\"Convert this dataframe to an interactive table.\"\n",
              "              style=\"display:none;\">\n",
              "        \n",
              "  <svg xmlns=\"http://www.w3.org/2000/svg\" height=\"24px\"viewBox=\"0 0 24 24\"\n",
              "       width=\"24px\">\n",
              "    <path d=\"M0 0h24v24H0V0z\" fill=\"none\"/>\n",
              "    <path d=\"M18.56 5.44l.94 2.06.94-2.06 2.06-.94-2.06-.94-.94-2.06-.94 2.06-2.06.94zm-11 1L8.5 8.5l.94-2.06 2.06-.94-2.06-.94L8.5 2.5l-.94 2.06-2.06.94zm10 10l.94 2.06.94-2.06 2.06-.94-2.06-.94-.94-2.06-.94 2.06-2.06.94z\"/><path d=\"M17.41 7.96l-1.37-1.37c-.4-.4-.92-.59-1.43-.59-.52 0-1.04.2-1.43.59L10.3 9.45l-7.72 7.72c-.78.78-.78 2.05 0 2.83L4 21.41c.39.39.9.59 1.41.59.51 0 1.02-.2 1.41-.59l7.78-7.78 2.81-2.81c.8-.78.8-2.07 0-2.86zM5.41 20L4 18.59l7.72-7.72 1.47 1.35L5.41 20z\"/>\n",
              "  </svg>\n",
              "      </button>\n",
              "      \n",
              "  <style>\n",
              "    .colab-df-container {\n",
              "      display:flex;\n",
              "      flex-wrap:wrap;\n",
              "      gap: 12px;\n",
              "    }\n",
              "\n",
              "    .colab-df-convert {\n",
              "      background-color: #E8F0FE;\n",
              "      border: none;\n",
              "      border-radius: 50%;\n",
              "      cursor: pointer;\n",
              "      display: none;\n",
              "      fill: #1967D2;\n",
              "      height: 32px;\n",
              "      padding: 0 0 0 0;\n",
              "      width: 32px;\n",
              "    }\n",
              "\n",
              "    .colab-df-convert:hover {\n",
              "      background-color: #E2EBFA;\n",
              "      box-shadow: 0px 1px 2px rgba(60, 64, 67, 0.3), 0px 1px 3px 1px rgba(60, 64, 67, 0.15);\n",
              "      fill: #174EA6;\n",
              "    }\n",
              "\n",
              "    [theme=dark] .colab-df-convert {\n",
              "      background-color: #3B4455;\n",
              "      fill: #D2E3FC;\n",
              "    }\n",
              "\n",
              "    [theme=dark] .colab-df-convert:hover {\n",
              "      background-color: #434B5C;\n",
              "      box-shadow: 0px 1px 3px 1px rgba(0, 0, 0, 0.15);\n",
              "      filter: drop-shadow(0px 1px 2px rgba(0, 0, 0, 0.3));\n",
              "      fill: #FFFFFF;\n",
              "    }\n",
              "  </style>\n",
              "\n",
              "      <script>\n",
              "        const buttonEl =\n",
              "          document.querySelector('#df-cc1609d9-825a-4242-ba1a-5e756a7baf26 button.colab-df-convert');\n",
              "        buttonEl.style.display =\n",
              "          google.colab.kernel.accessAllowed ? 'block' : 'none';\n",
              "\n",
              "        async function convertToInteractive(key) {\n",
              "          const element = document.querySelector('#df-cc1609d9-825a-4242-ba1a-5e756a7baf26');\n",
              "          const dataTable =\n",
              "            await google.colab.kernel.invokeFunction('convertToInteractive',\n",
              "                                                     [key], {});\n",
              "          if (!dataTable) return;\n",
              "\n",
              "          const docLinkHtml = 'Like what you see? Visit the ' +\n",
              "            '<a target=\"_blank\" href=https://colab.research.google.com/notebooks/data_table.ipynb>data table notebook</a>'\n",
              "            + ' to learn more about interactive tables.';\n",
              "          element.innerHTML = '';\n",
              "          dataTable['output_type'] = 'display_data';\n",
              "          await google.colab.output.renderOutput(dataTable, element);\n",
              "          const docLink = document.createElement('div');\n",
              "          docLink.innerHTML = docLinkHtml;\n",
              "          element.appendChild(docLink);\n",
              "        }\n",
              "      </script>\n",
              "    </div>\n",
              "  </div>\n",
              "  "
            ]
          },
          "metadata": {},
          "execution_count": 5
        }
      ],
      "source": [
        "# Importamos el dataset y hacemos un head()\n",
        "df = pd.read_csv('framingham.csv')\n",
        "df.head()"
      ],
      "id": "11df539e"
    },
    {
      "cell_type": "code",
      "execution_count": null,
      "metadata": {
        "id": "37058fe8",
        "outputId": "07d642f6-a176-4416-80e6-ebe14472977f",
        "colab": {
          "base_uri": "https://localhost:8080/"
        }
      },
      "outputs": [
        {
          "output_type": "stream",
          "name": "stdout",
          "text": [
            "<class 'pandas.core.frame.DataFrame'>\n",
            "RangeIndex: 4240 entries, 0 to 4239\n",
            "Data columns (total 16 columns):\n",
            " #   Column           Non-Null Count  Dtype  \n",
            "---  ------           --------------  -----  \n",
            " 0   male             4240 non-null   int64  \n",
            " 1   age              4240 non-null   int64  \n",
            " 2   education        4135 non-null   float64\n",
            " 3   currentSmoker    4240 non-null   int64  \n",
            " 4   cigsPerDay       4211 non-null   float64\n",
            " 5   BPMeds           4187 non-null   float64\n",
            " 6   prevalentStroke  4240 non-null   int64  \n",
            " 7   prevalentHyp     4240 non-null   int64  \n",
            " 8   diabetes         4240 non-null   int64  \n",
            " 9   totChol          4190 non-null   float64\n",
            " 10  sysBP            4240 non-null   float64\n",
            " 11  diaBP            4240 non-null   float64\n",
            " 12  BMI              4221 non-null   float64\n",
            " 13  heartRate        4239 non-null   float64\n",
            " 14  glucose          3852 non-null   float64\n",
            " 15  TenYearCHD       4240 non-null   int64  \n",
            "dtypes: float64(9), int64(7)\n",
            "memory usage: 530.1 KB\n"
          ]
        }
      ],
      "source": [
        "# Observamos la cantidad de nulos por feature\n",
        "df.info()"
      ],
      "id": "37058fe8"
    },
    {
      "cell_type": "code",
      "execution_count": null,
      "metadata": {
        "id": "280f64e5",
        "outputId": "ba2c750d-b216-4098-f40f-2c616356716c",
        "colab": {
          "base_uri": "https://localhost:8080/"
        }
      },
      "outputs": [
        {
          "output_type": "stream",
          "name": "stdout",
          "text": [
            "% de registros con al menos un valor nulo:      13.7\n"
          ]
        }
      ],
      "source": [
        "# Calculamos el % de registros totales que contienen al menos un valor nulo\n",
        "print('% de registros con al menos un valor nulo:     ', np.round(100 * df.isna().any(axis=1).sum() / df.shape[0], 1))"
      ],
      "id": "280f64e5"
    },
    {
      "cell_type": "code",
      "execution_count": null,
      "metadata": {
        "id": "3b7f1185",
        "outputId": "d875686a-01bc-48ac-e3f5-39d3e0894b41",
        "colab": {
          "base_uri": "https://localhost:8080/",
          "height": 551
        }
      },
      "outputs": [
        {
          "output_type": "execute_result",
          "data": {
            "text/plain": [
              "                  count        mean        std     min     25%    50%     75%  \\\n",
              "male             4240.0    0.429245   0.495027    0.00    0.00    0.0    1.00   \n",
              "age              4240.0   49.580189   8.572942   32.00   42.00   49.0   56.00   \n",
              "education        4135.0    1.979444   1.019791    1.00    1.00    2.0    3.00   \n",
              "currentSmoker    4240.0    0.494104   0.500024    0.00    0.00    0.0    1.00   \n",
              "cigsPerDay       4211.0    9.005937  11.922462    0.00    0.00    0.0   20.00   \n",
              "BPMeds           4187.0    0.029615   0.169544    0.00    0.00    0.0    0.00   \n",
              "prevalentStroke  4240.0    0.005896   0.076569    0.00    0.00    0.0    0.00   \n",
              "prevalentHyp     4240.0    0.310613   0.462799    0.00    0.00    0.0    1.00   \n",
              "diabetes         4240.0    0.025708   0.158280    0.00    0.00    0.0    0.00   \n",
              "totChol          4190.0  236.699523  44.591284  107.00  206.00  234.0  263.00   \n",
              "sysBP            4240.0  132.354599  22.033300   83.50  117.00  128.0  144.00   \n",
              "diaBP            4240.0   82.897759  11.910394   48.00   75.00   82.0   90.00   \n",
              "BMI              4221.0   25.800801   4.079840   15.54   23.07   25.4   28.04   \n",
              "heartRate        4239.0   75.878981  12.025348   44.00   68.00   75.0   83.00   \n",
              "glucose          3852.0   81.963655  23.954335   40.00   71.00   78.0   87.00   \n",
              "TenYearCHD       4240.0    0.151887   0.358953    0.00    0.00    0.0    0.00   \n",
              "\n",
              "                   max  \n",
              "male               1.0  \n",
              "age               70.0  \n",
              "education          4.0  \n",
              "currentSmoker      1.0  \n",
              "cigsPerDay        70.0  \n",
              "BPMeds             1.0  \n",
              "prevalentStroke    1.0  \n",
              "prevalentHyp       1.0  \n",
              "diabetes           1.0  \n",
              "totChol          696.0  \n",
              "sysBP            295.0  \n",
              "diaBP            142.5  \n",
              "BMI               56.8  \n",
              "heartRate        143.0  \n",
              "glucose          394.0  \n",
              "TenYearCHD         1.0  "
            ],
            "text/html": [
              "\n",
              "  <div id=\"df-864bb9b6-3b20-4920-a1fe-0ff5f063c294\">\n",
              "    <div class=\"colab-df-container\">\n",
              "      <div>\n",
              "<style scoped>\n",
              "    .dataframe tbody tr th:only-of-type {\n",
              "        vertical-align: middle;\n",
              "    }\n",
              "\n",
              "    .dataframe tbody tr th {\n",
              "        vertical-align: top;\n",
              "    }\n",
              "\n",
              "    .dataframe thead th {\n",
              "        text-align: right;\n",
              "    }\n",
              "</style>\n",
              "<table border=\"1\" class=\"dataframe\">\n",
              "  <thead>\n",
              "    <tr style=\"text-align: right;\">\n",
              "      <th></th>\n",
              "      <th>count</th>\n",
              "      <th>mean</th>\n",
              "      <th>std</th>\n",
              "      <th>min</th>\n",
              "      <th>25%</th>\n",
              "      <th>50%</th>\n",
              "      <th>75%</th>\n",
              "      <th>max</th>\n",
              "    </tr>\n",
              "  </thead>\n",
              "  <tbody>\n",
              "    <tr>\n",
              "      <th>male</th>\n",
              "      <td>4240.0</td>\n",
              "      <td>0.429245</td>\n",
              "      <td>0.495027</td>\n",
              "      <td>0.00</td>\n",
              "      <td>0.00</td>\n",
              "      <td>0.0</td>\n",
              "      <td>1.00</td>\n",
              "      <td>1.0</td>\n",
              "    </tr>\n",
              "    <tr>\n",
              "      <th>age</th>\n",
              "      <td>4240.0</td>\n",
              "      <td>49.580189</td>\n",
              "      <td>8.572942</td>\n",
              "      <td>32.00</td>\n",
              "      <td>42.00</td>\n",
              "      <td>49.0</td>\n",
              "      <td>56.00</td>\n",
              "      <td>70.0</td>\n",
              "    </tr>\n",
              "    <tr>\n",
              "      <th>education</th>\n",
              "      <td>4135.0</td>\n",
              "      <td>1.979444</td>\n",
              "      <td>1.019791</td>\n",
              "      <td>1.00</td>\n",
              "      <td>1.00</td>\n",
              "      <td>2.0</td>\n",
              "      <td>3.00</td>\n",
              "      <td>4.0</td>\n",
              "    </tr>\n",
              "    <tr>\n",
              "      <th>currentSmoker</th>\n",
              "      <td>4240.0</td>\n",
              "      <td>0.494104</td>\n",
              "      <td>0.500024</td>\n",
              "      <td>0.00</td>\n",
              "      <td>0.00</td>\n",
              "      <td>0.0</td>\n",
              "      <td>1.00</td>\n",
              "      <td>1.0</td>\n",
              "    </tr>\n",
              "    <tr>\n",
              "      <th>cigsPerDay</th>\n",
              "      <td>4211.0</td>\n",
              "      <td>9.005937</td>\n",
              "      <td>11.922462</td>\n",
              "      <td>0.00</td>\n",
              "      <td>0.00</td>\n",
              "      <td>0.0</td>\n",
              "      <td>20.00</td>\n",
              "      <td>70.0</td>\n",
              "    </tr>\n",
              "    <tr>\n",
              "      <th>BPMeds</th>\n",
              "      <td>4187.0</td>\n",
              "      <td>0.029615</td>\n",
              "      <td>0.169544</td>\n",
              "      <td>0.00</td>\n",
              "      <td>0.00</td>\n",
              "      <td>0.0</td>\n",
              "      <td>0.00</td>\n",
              "      <td>1.0</td>\n",
              "    </tr>\n",
              "    <tr>\n",
              "      <th>prevalentStroke</th>\n",
              "      <td>4240.0</td>\n",
              "      <td>0.005896</td>\n",
              "      <td>0.076569</td>\n",
              "      <td>0.00</td>\n",
              "      <td>0.00</td>\n",
              "      <td>0.0</td>\n",
              "      <td>0.00</td>\n",
              "      <td>1.0</td>\n",
              "    </tr>\n",
              "    <tr>\n",
              "      <th>prevalentHyp</th>\n",
              "      <td>4240.0</td>\n",
              "      <td>0.310613</td>\n",
              "      <td>0.462799</td>\n",
              "      <td>0.00</td>\n",
              "      <td>0.00</td>\n",
              "      <td>0.0</td>\n",
              "      <td>1.00</td>\n",
              "      <td>1.0</td>\n",
              "    </tr>\n",
              "    <tr>\n",
              "      <th>diabetes</th>\n",
              "      <td>4240.0</td>\n",
              "      <td>0.025708</td>\n",
              "      <td>0.158280</td>\n",
              "      <td>0.00</td>\n",
              "      <td>0.00</td>\n",
              "      <td>0.0</td>\n",
              "      <td>0.00</td>\n",
              "      <td>1.0</td>\n",
              "    </tr>\n",
              "    <tr>\n",
              "      <th>totChol</th>\n",
              "      <td>4190.0</td>\n",
              "      <td>236.699523</td>\n",
              "      <td>44.591284</td>\n",
              "      <td>107.00</td>\n",
              "      <td>206.00</td>\n",
              "      <td>234.0</td>\n",
              "      <td>263.00</td>\n",
              "      <td>696.0</td>\n",
              "    </tr>\n",
              "    <tr>\n",
              "      <th>sysBP</th>\n",
              "      <td>4240.0</td>\n",
              "      <td>132.354599</td>\n",
              "      <td>22.033300</td>\n",
              "      <td>83.50</td>\n",
              "      <td>117.00</td>\n",
              "      <td>128.0</td>\n",
              "      <td>144.00</td>\n",
              "      <td>295.0</td>\n",
              "    </tr>\n",
              "    <tr>\n",
              "      <th>diaBP</th>\n",
              "      <td>4240.0</td>\n",
              "      <td>82.897759</td>\n",
              "      <td>11.910394</td>\n",
              "      <td>48.00</td>\n",
              "      <td>75.00</td>\n",
              "      <td>82.0</td>\n",
              "      <td>90.00</td>\n",
              "      <td>142.5</td>\n",
              "    </tr>\n",
              "    <tr>\n",
              "      <th>BMI</th>\n",
              "      <td>4221.0</td>\n",
              "      <td>25.800801</td>\n",
              "      <td>4.079840</td>\n",
              "      <td>15.54</td>\n",
              "      <td>23.07</td>\n",
              "      <td>25.4</td>\n",
              "      <td>28.04</td>\n",
              "      <td>56.8</td>\n",
              "    </tr>\n",
              "    <tr>\n",
              "      <th>heartRate</th>\n",
              "      <td>4239.0</td>\n",
              "      <td>75.878981</td>\n",
              "      <td>12.025348</td>\n",
              "      <td>44.00</td>\n",
              "      <td>68.00</td>\n",
              "      <td>75.0</td>\n",
              "      <td>83.00</td>\n",
              "      <td>143.0</td>\n",
              "    </tr>\n",
              "    <tr>\n",
              "      <th>glucose</th>\n",
              "      <td>3852.0</td>\n",
              "      <td>81.963655</td>\n",
              "      <td>23.954335</td>\n",
              "      <td>40.00</td>\n",
              "      <td>71.00</td>\n",
              "      <td>78.0</td>\n",
              "      <td>87.00</td>\n",
              "      <td>394.0</td>\n",
              "    </tr>\n",
              "    <tr>\n",
              "      <th>TenYearCHD</th>\n",
              "      <td>4240.0</td>\n",
              "      <td>0.151887</td>\n",
              "      <td>0.358953</td>\n",
              "      <td>0.00</td>\n",
              "      <td>0.00</td>\n",
              "      <td>0.0</td>\n",
              "      <td>0.00</td>\n",
              "      <td>1.0</td>\n",
              "    </tr>\n",
              "  </tbody>\n",
              "</table>\n",
              "</div>\n",
              "      <button class=\"colab-df-convert\" onclick=\"convertToInteractive('df-864bb9b6-3b20-4920-a1fe-0ff5f063c294')\"\n",
              "              title=\"Convert this dataframe to an interactive table.\"\n",
              "              style=\"display:none;\">\n",
              "        \n",
              "  <svg xmlns=\"http://www.w3.org/2000/svg\" height=\"24px\"viewBox=\"0 0 24 24\"\n",
              "       width=\"24px\">\n",
              "    <path d=\"M0 0h24v24H0V0z\" fill=\"none\"/>\n",
              "    <path d=\"M18.56 5.44l.94 2.06.94-2.06 2.06-.94-2.06-.94-.94-2.06-.94 2.06-2.06.94zm-11 1L8.5 8.5l.94-2.06 2.06-.94-2.06-.94L8.5 2.5l-.94 2.06-2.06.94zm10 10l.94 2.06.94-2.06 2.06-.94-2.06-.94-.94-2.06-.94 2.06-2.06.94z\"/><path d=\"M17.41 7.96l-1.37-1.37c-.4-.4-.92-.59-1.43-.59-.52 0-1.04.2-1.43.59L10.3 9.45l-7.72 7.72c-.78.78-.78 2.05 0 2.83L4 21.41c.39.39.9.59 1.41.59.51 0 1.02-.2 1.41-.59l7.78-7.78 2.81-2.81c.8-.78.8-2.07 0-2.86zM5.41 20L4 18.59l7.72-7.72 1.47 1.35L5.41 20z\"/>\n",
              "  </svg>\n",
              "      </button>\n",
              "      \n",
              "  <style>\n",
              "    .colab-df-container {\n",
              "      display:flex;\n",
              "      flex-wrap:wrap;\n",
              "      gap: 12px;\n",
              "    }\n",
              "\n",
              "    .colab-df-convert {\n",
              "      background-color: #E8F0FE;\n",
              "      border: none;\n",
              "      border-radius: 50%;\n",
              "      cursor: pointer;\n",
              "      display: none;\n",
              "      fill: #1967D2;\n",
              "      height: 32px;\n",
              "      padding: 0 0 0 0;\n",
              "      width: 32px;\n",
              "    }\n",
              "\n",
              "    .colab-df-convert:hover {\n",
              "      background-color: #E2EBFA;\n",
              "      box-shadow: 0px 1px 2px rgba(60, 64, 67, 0.3), 0px 1px 3px 1px rgba(60, 64, 67, 0.15);\n",
              "      fill: #174EA6;\n",
              "    }\n",
              "\n",
              "    [theme=dark] .colab-df-convert {\n",
              "      background-color: #3B4455;\n",
              "      fill: #D2E3FC;\n",
              "    }\n",
              "\n",
              "    [theme=dark] .colab-df-convert:hover {\n",
              "      background-color: #434B5C;\n",
              "      box-shadow: 0px 1px 3px 1px rgba(0, 0, 0, 0.15);\n",
              "      filter: drop-shadow(0px 1px 2px rgba(0, 0, 0, 0.3));\n",
              "      fill: #FFFFFF;\n",
              "    }\n",
              "  </style>\n",
              "\n",
              "      <script>\n",
              "        const buttonEl =\n",
              "          document.querySelector('#df-864bb9b6-3b20-4920-a1fe-0ff5f063c294 button.colab-df-convert');\n",
              "        buttonEl.style.display =\n",
              "          google.colab.kernel.accessAllowed ? 'block' : 'none';\n",
              "\n",
              "        async function convertToInteractive(key) {\n",
              "          const element = document.querySelector('#df-864bb9b6-3b20-4920-a1fe-0ff5f063c294');\n",
              "          const dataTable =\n",
              "            await google.colab.kernel.invokeFunction('convertToInteractive',\n",
              "                                                     [key], {});\n",
              "          if (!dataTable) return;\n",
              "\n",
              "          const docLinkHtml = 'Like what you see? Visit the ' +\n",
              "            '<a target=\"_blank\" href=https://colab.research.google.com/notebooks/data_table.ipynb>data table notebook</a>'\n",
              "            + ' to learn more about interactive tables.';\n",
              "          element.innerHTML = '';\n",
              "          dataTable['output_type'] = 'display_data';\n",
              "          await google.colab.output.renderOutput(dataTable, element);\n",
              "          const docLink = document.createElement('div');\n",
              "          docLink.innerHTML = docLinkHtml;\n",
              "          element.appendChild(docLink);\n",
              "        }\n",
              "      </script>\n",
              "    </div>\n",
              "  </div>\n",
              "  "
            ]
          },
          "metadata": {},
          "execution_count": 8
        }
      ],
      "source": [
        "# Aplicamos un describe() para ver estadísticos básicos\n",
        "df.describe().T"
      ],
      "id": "3b7f1185"
    },
    {
      "cell_type": "code",
      "execution_count": null,
      "metadata": {
        "id": "3fe85add",
        "outputId": "ceb84630-121f-4ca3-ee42-ef638baeb443",
        "colab": {
          "base_uri": "https://localhost:8080/"
        }
      },
      "outputs": [
        {
          "output_type": "execute_result",
          "data": {
            "text/plain": [
              "0    0.848113\n",
              "1    0.151887\n",
              "Name: TenYearCHD, dtype: float64"
            ]
          },
          "metadata": {},
          "execution_count": 9
        }
      ],
      "source": [
        "# Calculamos las proporciones de cada clase en la variable Target\n",
        "df['TenYearCHD'].value_counts(True)\n",
        "# Se puede apreciar que estan claramente desbalanceadas"
      ],
      "id": "3fe85add"
    },
    {
      "cell_type": "code",
      "execution_count": null,
      "metadata": {
        "id": "0ff6fe30",
        "outputId": "0813ea9e-2c80-423c-8a45-9c7ff902d5a0",
        "colab": {
          "base_uri": "https://localhost:8080/",
          "height": 551
        }
      },
      "outputs": [
        {
          "output_type": "execute_result",
          "data": {
            "text/plain": [
              "                  count  unique     top    freq\n",
              "male             4240.0     2.0    0.00  2420.0\n",
              "age              4240.0    39.0   40.00   192.0\n",
              "education        4135.0     4.0    1.00  1720.0\n",
              "currentSmoker    4240.0     2.0    0.00  2145.0\n",
              "cigsPerDay       4211.0    33.0    0.00  2145.0\n",
              "BPMeds           4187.0     2.0    0.00  4063.0\n",
              "prevalentStroke  4240.0     2.0    0.00  4215.0\n",
              "prevalentHyp     4240.0     2.0    0.00  2923.0\n",
              "diabetes         4240.0     2.0    0.00  4131.0\n",
              "totChol          4190.0   248.0  240.00    85.0\n",
              "sysBP            4240.0   234.0  120.00   107.0\n",
              "diaBP            4240.0   146.0   80.00   262.0\n",
              "BMI              4221.0  1364.0   22.91    18.0\n",
              "heartRate        4239.0    73.0   75.00   563.0\n",
              "glucose          3852.0   143.0   75.00   193.0\n",
              "TenYearCHD       4240.0     2.0    0.00  3596.0"
            ],
            "text/html": [
              "\n",
              "  <div id=\"df-7d7bcabf-8aa0-4b8f-8d48-c21169b555af\">\n",
              "    <div class=\"colab-df-container\">\n",
              "      <div>\n",
              "<style scoped>\n",
              "    .dataframe tbody tr th:only-of-type {\n",
              "        vertical-align: middle;\n",
              "    }\n",
              "\n",
              "    .dataframe tbody tr th {\n",
              "        vertical-align: top;\n",
              "    }\n",
              "\n",
              "    .dataframe thead th {\n",
              "        text-align: right;\n",
              "    }\n",
              "</style>\n",
              "<table border=\"1\" class=\"dataframe\">\n",
              "  <thead>\n",
              "    <tr style=\"text-align: right;\">\n",
              "      <th></th>\n",
              "      <th>count</th>\n",
              "      <th>unique</th>\n",
              "      <th>top</th>\n",
              "      <th>freq</th>\n",
              "    </tr>\n",
              "  </thead>\n",
              "  <tbody>\n",
              "    <tr>\n",
              "      <th>male</th>\n",
              "      <td>4240.0</td>\n",
              "      <td>2.0</td>\n",
              "      <td>0.00</td>\n",
              "      <td>2420.0</td>\n",
              "    </tr>\n",
              "    <tr>\n",
              "      <th>age</th>\n",
              "      <td>4240.0</td>\n",
              "      <td>39.0</td>\n",
              "      <td>40.00</td>\n",
              "      <td>192.0</td>\n",
              "    </tr>\n",
              "    <tr>\n",
              "      <th>education</th>\n",
              "      <td>4135.0</td>\n",
              "      <td>4.0</td>\n",
              "      <td>1.00</td>\n",
              "      <td>1720.0</td>\n",
              "    </tr>\n",
              "    <tr>\n",
              "      <th>currentSmoker</th>\n",
              "      <td>4240.0</td>\n",
              "      <td>2.0</td>\n",
              "      <td>0.00</td>\n",
              "      <td>2145.0</td>\n",
              "    </tr>\n",
              "    <tr>\n",
              "      <th>cigsPerDay</th>\n",
              "      <td>4211.0</td>\n",
              "      <td>33.0</td>\n",
              "      <td>0.00</td>\n",
              "      <td>2145.0</td>\n",
              "    </tr>\n",
              "    <tr>\n",
              "      <th>BPMeds</th>\n",
              "      <td>4187.0</td>\n",
              "      <td>2.0</td>\n",
              "      <td>0.00</td>\n",
              "      <td>4063.0</td>\n",
              "    </tr>\n",
              "    <tr>\n",
              "      <th>prevalentStroke</th>\n",
              "      <td>4240.0</td>\n",
              "      <td>2.0</td>\n",
              "      <td>0.00</td>\n",
              "      <td>4215.0</td>\n",
              "    </tr>\n",
              "    <tr>\n",
              "      <th>prevalentHyp</th>\n",
              "      <td>4240.0</td>\n",
              "      <td>2.0</td>\n",
              "      <td>0.00</td>\n",
              "      <td>2923.0</td>\n",
              "    </tr>\n",
              "    <tr>\n",
              "      <th>diabetes</th>\n",
              "      <td>4240.0</td>\n",
              "      <td>2.0</td>\n",
              "      <td>0.00</td>\n",
              "      <td>4131.0</td>\n",
              "    </tr>\n",
              "    <tr>\n",
              "      <th>totChol</th>\n",
              "      <td>4190.0</td>\n",
              "      <td>248.0</td>\n",
              "      <td>240.00</td>\n",
              "      <td>85.0</td>\n",
              "    </tr>\n",
              "    <tr>\n",
              "      <th>sysBP</th>\n",
              "      <td>4240.0</td>\n",
              "      <td>234.0</td>\n",
              "      <td>120.00</td>\n",
              "      <td>107.0</td>\n",
              "    </tr>\n",
              "    <tr>\n",
              "      <th>diaBP</th>\n",
              "      <td>4240.0</td>\n",
              "      <td>146.0</td>\n",
              "      <td>80.00</td>\n",
              "      <td>262.0</td>\n",
              "    </tr>\n",
              "    <tr>\n",
              "      <th>BMI</th>\n",
              "      <td>4221.0</td>\n",
              "      <td>1364.0</td>\n",
              "      <td>22.91</td>\n",
              "      <td>18.0</td>\n",
              "    </tr>\n",
              "    <tr>\n",
              "      <th>heartRate</th>\n",
              "      <td>4239.0</td>\n",
              "      <td>73.0</td>\n",
              "      <td>75.00</td>\n",
              "      <td>563.0</td>\n",
              "    </tr>\n",
              "    <tr>\n",
              "      <th>glucose</th>\n",
              "      <td>3852.0</td>\n",
              "      <td>143.0</td>\n",
              "      <td>75.00</td>\n",
              "      <td>193.0</td>\n",
              "    </tr>\n",
              "    <tr>\n",
              "      <th>TenYearCHD</th>\n",
              "      <td>4240.0</td>\n",
              "      <td>2.0</td>\n",
              "      <td>0.00</td>\n",
              "      <td>3596.0</td>\n",
              "    </tr>\n",
              "  </tbody>\n",
              "</table>\n",
              "</div>\n",
              "      <button class=\"colab-df-convert\" onclick=\"convertToInteractive('df-7d7bcabf-8aa0-4b8f-8d48-c21169b555af')\"\n",
              "              title=\"Convert this dataframe to an interactive table.\"\n",
              "              style=\"display:none;\">\n",
              "        \n",
              "  <svg xmlns=\"http://www.w3.org/2000/svg\" height=\"24px\"viewBox=\"0 0 24 24\"\n",
              "       width=\"24px\">\n",
              "    <path d=\"M0 0h24v24H0V0z\" fill=\"none\"/>\n",
              "    <path d=\"M18.56 5.44l.94 2.06.94-2.06 2.06-.94-2.06-.94-.94-2.06-.94 2.06-2.06.94zm-11 1L8.5 8.5l.94-2.06 2.06-.94-2.06-.94L8.5 2.5l-.94 2.06-2.06.94zm10 10l.94 2.06.94-2.06 2.06-.94-2.06-.94-.94-2.06-.94 2.06-2.06.94z\"/><path d=\"M17.41 7.96l-1.37-1.37c-.4-.4-.92-.59-1.43-.59-.52 0-1.04.2-1.43.59L10.3 9.45l-7.72 7.72c-.78.78-.78 2.05 0 2.83L4 21.41c.39.39.9.59 1.41.59.51 0 1.02-.2 1.41-.59l7.78-7.78 2.81-2.81c.8-.78.8-2.07 0-2.86zM5.41 20L4 18.59l7.72-7.72 1.47 1.35L5.41 20z\"/>\n",
              "  </svg>\n",
              "      </button>\n",
              "      \n",
              "  <style>\n",
              "    .colab-df-container {\n",
              "      display:flex;\n",
              "      flex-wrap:wrap;\n",
              "      gap: 12px;\n",
              "    }\n",
              "\n",
              "    .colab-df-convert {\n",
              "      background-color: #E8F0FE;\n",
              "      border: none;\n",
              "      border-radius: 50%;\n",
              "      cursor: pointer;\n",
              "      display: none;\n",
              "      fill: #1967D2;\n",
              "      height: 32px;\n",
              "      padding: 0 0 0 0;\n",
              "      width: 32px;\n",
              "    }\n",
              "\n",
              "    .colab-df-convert:hover {\n",
              "      background-color: #E2EBFA;\n",
              "      box-shadow: 0px 1px 2px rgba(60, 64, 67, 0.3), 0px 1px 3px 1px rgba(60, 64, 67, 0.15);\n",
              "      fill: #174EA6;\n",
              "    }\n",
              "\n",
              "    [theme=dark] .colab-df-convert {\n",
              "      background-color: #3B4455;\n",
              "      fill: #D2E3FC;\n",
              "    }\n",
              "\n",
              "    [theme=dark] .colab-df-convert:hover {\n",
              "      background-color: #434B5C;\n",
              "      box-shadow: 0px 1px 3px 1px rgba(0, 0, 0, 0.15);\n",
              "      filter: drop-shadow(0px 1px 2px rgba(0, 0, 0, 0.3));\n",
              "      fill: #FFFFFF;\n",
              "    }\n",
              "  </style>\n",
              "\n",
              "      <script>\n",
              "        const buttonEl =\n",
              "          document.querySelector('#df-7d7bcabf-8aa0-4b8f-8d48-c21169b555af button.colab-df-convert');\n",
              "        buttonEl.style.display =\n",
              "          google.colab.kernel.accessAllowed ? 'block' : 'none';\n",
              "\n",
              "        async function convertToInteractive(key) {\n",
              "          const element = document.querySelector('#df-7d7bcabf-8aa0-4b8f-8d48-c21169b555af');\n",
              "          const dataTable =\n",
              "            await google.colab.kernel.invokeFunction('convertToInteractive',\n",
              "                                                     [key], {});\n",
              "          if (!dataTable) return;\n",
              "\n",
              "          const docLinkHtml = 'Like what you see? Visit the ' +\n",
              "            '<a target=\"_blank\" href=https://colab.research.google.com/notebooks/data_table.ipynb>data table notebook</a>'\n",
              "            + ' to learn more about interactive tables.';\n",
              "          element.innerHTML = '';\n",
              "          dataTable['output_type'] = 'display_data';\n",
              "          await google.colab.output.renderOutput(dataTable, element);\n",
              "          const docLink = document.createElement('div');\n",
              "          docLink.innerHTML = docLinkHtml;\n",
              "          element.appendChild(docLink);\n",
              "        }\n",
              "      </script>\n",
              "    </div>\n",
              "  </div>\n",
              "  "
            ]
          },
          "metadata": {},
          "execution_count": 10
        }
      ],
      "source": [
        "# Aplicamos describe() previa aplicacion del metodo astype, con el objeto de tratar a las variables como objetos (strings)\n",
        "df.astype(object).describe().T\n",
        "# De esta manera podemos ver si dentro de las variables numericas hay algunas que sean mas bien discretas (y no continuas)"
      ],
      "id": "0ff6fe30"
    },
    {
      "cell_type": "code",
      "execution_count": null,
      "metadata": {
        "id": "fe234b91",
        "outputId": "5c0aa975-92fe-4170-d72b-d343ebb2bc1c",
        "colab": {
          "base_uri": "https://localhost:8080/",
          "height": 801
        }
      },
      "outputs": [
        {
          "output_type": "display_data",
          "data": {
            "text/plain": [
              "<Figure size 1296x864 with 15 Axes>"
            ],
            "image/png": "[encoded data removed]"
          },
          "metadata": {
            "needs_background": "light"
          }
        }
      ],
      "source": [
        "# Creamos un grafico para cada feature discriminando por el valor del target con un loop\n",
        "fig, axes = plt.subplots(nrows=3, ncols=5, figsize=(18,12))\n",
        "fig.suptitle('Histogramas normalizados')\n",
        "for c, ax in zip(df.columns[:-1], axes.flatten()):\n",
        "    sns.histplot(data = df.loc[df['TenYearCHD']==0, c].dropna(), stat = 'density', ax = ax, kde = False )\n",
        "    sns.histplot(data = df.loc[df['TenYearCHD']==1, c].dropna(), stat = 'density', kde=False, ax=ax, color = 'orange')\n",
        "    ax.legend(['TenYearCHD = 0', 'TenYearCHD = 1'])\n",
        "# Importante: el grafico utiliza el metodo \"density\" que permite comparar las clases desbalanceadas (ver que ocurre con otro metodos)"
      ],
      "id": "fe234b91"
    },
    {
      "cell_type": "code",
      "execution_count": null,
      "metadata": {
        "id": "6c85a9e7",
        "outputId": "3011f1d6-2cc2-4110-ecdf-fe84b50f2f82",
        "colab": {
          "base_uri": "https://localhost:8080/",
          "height": 790
        }
      },
      "outputs": [
        {
          "output_type": "execute_result",
          "data": {
            "text/plain": [
              "<matplotlib.axes._subplots.AxesSubplot at 0x7f83279a9150>"
            ]
          },
          "metadata": {},
          "execution_count": 12
        },
        {
          "output_type": "display_data",
          "data": {
            "text/plain": [
              "<Figure size 864x864 with 2 Axes>"
            ],
            "image/png": "[encoded data removed]"
          },
          "metadata": {
            "needs_background": "light"
          }
        }
      ],
      "source": [
        "# Graficamos en un mapa de calor los coeficientes de correlacion de todas las variables entre sí\n",
        "plt.figure(figsize=(12,12))\n",
        "sns.heatmap(df.corr().round(2), annot=True, vmin=-1, vmax=1, cmap='bwr')"
      ],
      "id": "6c85a9e7"
    },
    {
      "cell_type": "code",
      "execution_count": null,
      "metadata": {
        "id": "9c882928"
      },
      "outputs": [],
      "source": [
        ""
      ],
      "id": "9c882928"
    },
    {
      "cell_type": "code",
      "execution_count": null,
      "metadata": {
        "id": "9edb62a5"
      },
      "outputs": [],
      "source": [
        "# Eliminamos los registros con valores faltantes ya que son sólo un 13% del dataset\n",
        "df.dropna(inplace=True)\n",
        "\n",
        "# Preparamos la matriz de features y el vector objetivo\n",
        "X = df.drop(columns=['TenYearCHD'])\n",
        "y = df['TenYearCHD']\n",
        "\n",
        "# Separamos un set de testeo para evaluar el modelo\n",
        "X_train, X_test, y_train, y_test = train_test_split(X, y, stratify=y, random_state = 0)\n",
        "\n",
        "# Estandarizamos los datos para que la regularización sea correcta\n",
        "scaler = StandardScaler()\n",
        "X_train_std = scaler.fit_transform(X_train)\n",
        "X_test_std = scaler.transform(X_test)"
      ],
      "id": "9edb62a5"
    },
    {
      "cell_type": "code",
      "execution_count": null,
      "metadata": {
        "id": "f5d432ae"
      },
      "outputs": [],
      "source": [
        ""
      ],
      "id": "f5d432ae"
    },
    {
      "cell_type": "markdown",
      "metadata": {
        "id": "b07d7b71"
      },
      "source": [
        "## 1. Modelo de Regresión Logística"
      ],
      "id": "b07d7b71"
    },
    {
      "cell_type": "code",
      "execution_count": null,
      "metadata": {
        "id": "9d85c2b2"
      },
      "outputs": [],
      "source": [
        "#Instanciamos el modelo de Regresion logistica y lo entrenamos. Almacenamos las predicciones\n",
        "lr = LogisticRegression(penalty='l2', \n",
        "                        class_weight='balanced'\n",
        "                       )\n",
        "lr.fit(X_train_std, y_train)\n",
        "\n",
        "y_train_pred = lr.predict(X_train_std)"
      ],
      "id": "9d85c2b2"
    },
    {
      "cell_type": "code",
      "execution_count": null,
      "metadata": {
        "id": "8597d19f",
        "outputId": "aefbee39-4bda-4c62-c750-f59084ba3cdf",
        "colab": {
          "base_uri": "https://localhost:8080/",
          "height": 487
        }
      },
      "outputs": [
        {
          "output_type": "stream",
          "name": "stdout",
          "text": [
            "Accuracy del modelo de Reg. Logistica :    0.671\n",
            "Accuracy del modelo de Reg. Logistica :    0.67\n",
            "Rporte del modelo de Reg. Logistica :   \n",
            "               precision    recall  f1-score   support\n",
            "\n",
            "           0       0.92      0.67      0.78      2325\n",
            "           1       0.27      0.67      0.38       418\n",
            "\n",
            "    accuracy                           0.67      2743\n",
            "   macro avg       0.59      0.67      0.58      2743\n",
            "weighted avg       0.82      0.67      0.72      2743\n",
            "\n"
          ]
        },
        {
          "output_type": "display_data",
          "data": {
            "text/plain": [
              "<Figure size 432x288 with 2 Axes>"
            ],
            "image/png": "[encoded data removed]"
          },
          "metadata": {
            "needs_background": "light"
          }
        }
      ],
      "source": [
        "# Imprimimos resumen de metricas y la matriz de confusion\n",
        "\n",
        "model_name = 'Reg. Logistica'\n",
        "\n",
        "sns.heatmap(confusion_matrix(y_train, y_train_pred), annot=True, cmap='PuBu', fmt='0.0f', linewidths=0.25, \n",
        "           annot_kws={'size':13} )\n",
        "plt.xlabel('Predichos')\n",
        "plt.ylabel('Reales')\n",
        "\n",
        "print('Accuracy del modelo de ' + model_name + ' :   ', accuracy_score(y_train, y_train_pred).round(3))\n",
        "print('Accuracy del modelo de ' + model_name + ' :   ', recall_score(y_train, y_train_pred).round(3))\n",
        "\n",
        "print('Rporte del modelo de ' + model_name + ' :   \\n', classification_report(y_train, y_train_pred))"
      ],
      "id": "8597d19f"
    },
    {
      "cell_type": "markdown",
      "metadata": {
        "id": "12afcfd5"
      },
      "source": [
        "+ ### Visualización de como predice el modelo según la probabilidad y los efectos sobre las métricas"
      ],
      "id": "12afcfd5"
    },
    {
      "cell_type": "code",
      "execution_count": null,
      "metadata": {
        "id": "0a0ccbf2",
        "outputId": "fa184137-dcd0-4563-aa81-f0cdc15dde42",
        "colab": {
          "base_uri": "https://localhost:8080/",
          "height": 337
        }
      },
      "outputs": [
        {
          "output_type": "execute_result",
          "data": {
            "text/plain": [
              "<matplotlib.legend.Legend at 0x7f831fffb7d0>"
            ]
          },
          "metadata": {},
          "execution_count": 16
        },
        {
          "output_type": "display_data",
          "data": {
            "text/plain": [
              "<Figure size 936x360 with 1 Axes>"
            ],
            "image/png": "[encoded data removed]"
          },
          "metadata": {
            "needs_background": "light"
          }
        }
      ],
      "source": [
        "# Histograma de probabilidades\n",
        "fig, ax01 = plt.subplots(1,1 , figsize=(13,5))\n",
        "sns.histplot(data = lr.predict_proba(X_train_std[y_train==0])[:,1], stat = 'count', ax=ax01)\n",
        "sns.histplot(data = lr.predict_proba(X_train_std[y_train==1])[:,1], stat = 'count', color = 'orange', ax=ax01)\n",
        "ylim = plt.ylim()\n",
        "plt.vlines(0.5, ylim[0], ylim[1])\n",
        "plt.ylim(ylim)\n",
        "plt.legend(['Umbral', 'TenYearCHD = 0', 'TenYearCHD = 1'])"
      ],
      "id": "0a0ccbf2"
    },
    {
      "cell_type": "markdown",
      "metadata": {
        "id": "4daf7045"
      },
      "source": [
        "+ ### Cambio en las métricas en función del umbral elegido"
      ],
      "id": "4daf7045"
    },
    {
      "cell_type": "code",
      "execution_count": null,
      "metadata": {
        "id": "dde4bee6"
      },
      "outputs": [],
      "source": [
        "# Realizamos predicciones con un umbral distinto al que se establece por defecto (0.5)\n",
        "umbral = 0.4\n",
        "probs = lr.predict_proba(X_train_std)[:,1]\n",
        "y_pred_train_umbral = probs > umbral"
      ],
      "id": "dde4bee6"
    },
    {
      "cell_type": "code",
      "execution_count": null,
      "metadata": {
        "id": "33c80ed8",
        "outputId": "a65229f3-e08c-4ed6-80ec-51b1fee2bdc1",
        "colab": {
          "base_uri": "https://localhost:8080/",
          "height": 487
        }
      },
      "outputs": [
        {
          "output_type": "stream",
          "name": "stdout",
          "text": [
            "Accuracy del modelo de Reg. Logistica :    0.556\n",
            "Accuracy del modelo de Reg. Logistica :    0.835\n",
            "Rporte del modelo de Reg. Logistica :   \n",
            "               precision    recall  f1-score   support\n",
            "\n",
            "           0       0.94      0.51      0.66      2325\n",
            "           1       0.23      0.83      0.36       418\n",
            "\n",
            "    accuracy                           0.56      2743\n",
            "   macro avg       0.59      0.67      0.51      2743\n",
            "weighted avg       0.84      0.56      0.61      2743\n",
            "\n"
          ]
        },
        {
          "output_type": "display_data",
          "data": {
            "text/plain": [
              "<Figure size 432x288 with 2 Axes>"
            ],
            "image/png": "[encoded data removed]"
          },
          "metadata": {
            "needs_background": "light"
          }
        }
      ],
      "source": [
        "# Imprimimos resumen de metricas y la matriz de confusion\n",
        "model_name = 'Reg. Logistica'\n",
        "\n",
        "sns.heatmap(confusion_matrix(y_train, y_pred_train_umbral), annot=True, cmap='PuBu', fmt='0.0f', linewidths=0.25, \n",
        "           annot_kws={'size':13} )\n",
        "plt.xlabel('Predichos')\n",
        "plt.ylabel('Reales')\n",
        "\n",
        "print('Accuracy del modelo de ' + model_name + ' :   ', accuracy_score(y_train, y_pred_train_umbral).round(3))\n",
        "print('Accuracy del modelo de ' + model_name + ' :   ', recall_score(y_train, y_pred_train_umbral).round(3))\n",
        "\n",
        "print('Rporte del modelo de ' + model_name + ' :   \\n', classification_report(y_train, y_pred_train_umbral))"
      ],
      "id": "33c80ed8"
    },
    {
      "cell_type": "markdown",
      "metadata": {
        "id": "07d6cf67"
      },
      "source": [
        "+ ### ¿Cómo se comporta el modelo en testeo?"
      ],
      "id": "07d6cf67"
    },
    {
      "cell_type": "code",
      "execution_count": null,
      "metadata": {
        "id": "aea5ba19"
      },
      "outputs": [],
      "source": [
        "# Y ahora hacemos predicciones en testeo con el umbral elegido\n",
        "probs = lr.predict_proba(X_test_std)[:,1]\n",
        "y_pred_test_umbral = probs > umbral"
      ],
      "id": "aea5ba19"
    },
    {
      "cell_type": "code",
      "execution_count": null,
      "metadata": {
        "id": "44b63cfe",
        "outputId": "b5520806-d03d-4e79-8996-5c4757351ab1",
        "colab": {
          "base_uri": "https://localhost:8080/",
          "height": 487
        }
      },
      "outputs": [
        {
          "output_type": "stream",
          "name": "stdout",
          "text": [
            "Accuracy del modelo de Reg. Logistica :    0.57\n",
            "Accuracy del modelo de Reg. Logistica :    0.813\n",
            "Rporte del modelo de Reg. Logistica :   \n",
            "               precision    recall  f1-score   support\n",
            "\n",
            "           0       0.94      0.53      0.68       776\n",
            "           1       0.24      0.81      0.37       139\n",
            "\n",
            "    accuracy                           0.57       915\n",
            "   macro avg       0.59      0.67      0.52       915\n",
            "weighted avg       0.83      0.57      0.63       915\n",
            "\n"
          ]
        },
        {
          "output_type": "display_data",
          "data": {
            "text/plain": [
              "<Figure size 432x288 with 2 Axes>"
            ],
            "image/png": "[encoded data removed]"
          },
          "metadata": {
            "needs_background": "light"
          }
        }
      ],
      "source": [
        "# Imprimimos resumen de metricas y la matriz de confusion\n",
        "model_name = 'Reg. Logistica'\n",
        "\n",
        "sns.heatmap(confusion_matrix(y_test, y_pred_test_umbral), annot=True, cmap='PuBu', fmt='0.0f', linewidths=0.25, \n",
        "           annot_kws={'size':13} )\n",
        "plt.xlabel('Predichos')\n",
        "plt.ylabel('Reales')\n",
        "\n",
        "print('Accuracy del modelo de ' + model_name + ' :   ', accuracy_score(y_test, y_pred_test_umbral).round(3))\n",
        "print('Accuracy del modelo de ' + model_name + ' :   ', recall_score(y_test, y_pred_test_umbral).round(3))\n",
        "\n",
        "print('Rporte del modelo de ' + model_name + ' :   \\n', classification_report(y_test, y_pred_test_umbral))"
      ],
      "id": "44b63cfe"
    },
    {
      "cell_type": "code",
      "execution_count": null,
      "metadata": {
        "id": "f778f8cf"
      },
      "outputs": [],
      "source": [
        ""
      ],
      "id": "f778f8cf"
    },
    {
      "cell_type": "markdown",
      "metadata": {
        "id": "7163beea"
      },
      "source": [
        "## 2. Modelo de Naive Bayes"
      ],
      "id": "7163beea"
    },
    {
      "cell_type": "code",
      "execution_count": null,
      "metadata": {
        "id": "a1520fe4"
      },
      "outputs": [],
      "source": [
        "gnb = GaussianNB()\n",
        "\n",
        "gnb.fit(X_train, y_train)\n",
        "\n",
        "y_train_pred_gnb = gnb.predict(X_train)"
      ],
      "id": "a1520fe4"
    },
    {
      "cell_type": "code",
      "execution_count": null,
      "metadata": {
        "id": "7e97fe36",
        "colab": {
          "base_uri": "https://localhost:8080/",
          "height": 314
        },
        "outputId": "ad6f4872-3411-4c1f-812f-bf436e437f59"
      },
      "outputs": [
        {
          "output_type": "stream",
          "name": "stdout",
          "text": [
            "Accuracy del modelo de Naibe Bayes:     0.82\n",
            "Recall del modelo de Naibe Bayes:       0.213\n"
          ]
        },
        {
          "output_type": "display_data",
          "data": {
            "text/plain": [
              "<Figure size 432x288 with 2 Axes>"
            ],
            "image/png": "[encoded data removed]"
          },
          "metadata": {
            "needs_background": "light"
          }
        }
      ],
      "source": [
        "sns.heatmap(confusion_matrix(y_train, y_train_pred_gnb), annot=True, cmap='PuBu', fmt='0.0f', linewidths=0.25, \n",
        "          annot_kws={'size':13} )\n",
        "plt.xlabel('Predichos')\n",
        "plt.ylabel('Reales')\n",
        "\n",
        "print('Accuracy del modelo de Naibe Bayes:    ', accuracy_score(y_train, y_train_pred_gnb).round(3))\n",
        "print('Recall del modelo de Naibe Bayes:      ', recall_score(y_train, y_train_pred_gnb).round(3))"
      ],
      "id": "7e97fe36"
    },
    {
      "cell_type": "code",
      "execution_count": null,
      "metadata": {
        "id": "6f1abdaf",
        "outputId": "1e9f3ceb-1dd5-4c39-b565-cae71473a3a5",
        "colab": {
          "base_uri": "https://localhost:8080/",
          "height": 337
        }
      },
      "outputs": [
        {
          "output_type": "execute_result",
          "data": {
            "text/plain": [
              "<matplotlib.legend.Legend at 0x7f831fc6be90>"
            ]
          },
          "metadata": {},
          "execution_count": 23
        },
        {
          "output_type": "display_data",
          "data": {
            "text/plain": [
              "<Figure size 936x360 with 1 Axes>"
            ],
            "image/png": "[encoded data removed]"
          },
          "metadata": {
            "needs_background": "light"
          }
        }
      ],
      "source": [
        "# Histograma de probabilidades\n",
        "fig, ax01 = plt.subplots(1,1 , figsize=(13,5))\n",
        "sns.histplot(data = gnb.predict_proba(X_train[y_train==0])[:,1], stat = 'density', ax=ax01)\n",
        "sns.histplot(data = gnb.predict_proba(X_train[y_train==1])[:,1], stat = 'density', color = 'orange', ax=ax01)\n",
        "ylim = plt.ylim()\n",
        "plt.vlines(0.2, ylim[0], ylim[1])\n",
        "plt.ylim(ylim)\n",
        "plt.legend(['Umbral', 'TenYearCHD = 0', 'TenYearCHD = 1'])"
      ],
      "id": "6f1abdaf"
    },
    {
      "cell_type": "markdown",
      "metadata": {
        "id": "813f3072"
      },
      "source": [
        "+ ### Comportamiento en entrenamiento"
      ],
      "id": "813f3072"
    },
    {
      "cell_type": "code",
      "execution_count": null,
      "metadata": {
        "id": "5a36ceb9"
      },
      "outputs": [],
      "source": [
        "umbral = 0.1\n",
        "probs = gnb.predict_proba(X_train)[:,1]\n",
        "y_pred_train_gnb_umbral = probs > umbral"
      ],
      "id": "5a36ceb9"
    },
    {
      "cell_type": "code",
      "execution_count": null,
      "metadata": {
        "id": "1ddf13cd",
        "outputId": "3389a0d3-49e5-4c16-f1a7-3054deaa26a9",
        "colab": {
          "base_uri": "https://localhost:8080/",
          "height": 314
        }
      },
      "outputs": [
        {
          "output_type": "stream",
          "name": "stdout",
          "text": [
            "Accuracy del modelo de NaiveBayes:     0.782\n",
            "Recall del modelo de NaiveBayes:     0.38\n"
          ]
        },
        {
          "output_type": "display_data",
          "data": {
            "text/plain": [
              "<Figure size 432x288 with 2 Axes>"
            ],
            "image/png": "[encoded data removed]"
          },
          "metadata": {
            "needs_background": "light"
          }
        }
      ],
      "source": [
        "sns.heatmap(confusion_matrix(y_train, y_pred_train_gnb_umbral), annot=True, cmap='PuBu', fmt='0.0f', linewidths=0.25, \n",
        "           annot_kws={'size':13} )\n",
        "plt.xlabel('Predichos')\n",
        "plt.ylabel('Reales')\n",
        "\n",
        "print('Accuracy del modelo de NaiveBayes:    ', accuracy_score(y_train, y_pred_train_gnb_umbral).round(3))\n",
        "print('Recall del modelo de NaiveBayes:    ', recall_score(y_train, y_pred_train_gnb_umbral).round(3))"
      ],
      "id": "1ddf13cd"
    },
    {
      "cell_type": "markdown",
      "metadata": {
        "id": "0fc57cf0"
      },
      "source": [
        "+ ### Comportamiento en testeo"
      ],
      "id": "0fc57cf0"
    },
    {
      "cell_type": "code",
      "execution_count": null,
      "metadata": {
        "id": "d1ac6daf"
      },
      "outputs": [],
      "source": [
        "probs = gnb.predict_proba(X_test)[:,1]\n",
        "y_pred_test_gnb_umbral = probs > umbral"
      ],
      "id": "d1ac6daf"
    },
    {
      "cell_type": "code",
      "execution_count": null,
      "metadata": {
        "id": "ab01b665",
        "outputId": "29d3ebdc-6c2f-4fe4-baf7-ddca3d1206cf",
        "colab": {
          "base_uri": "https://localhost:8080/",
          "height": 314
        }
      },
      "outputs": [
        {
          "output_type": "stream",
          "name": "stdout",
          "text": [
            "Accuracy del modelo de NaiveBayes (Testeo):     0.8\n",
            "Recall del modelo de Naive Bayes (Testeo):      0.374\n"
          ]
        },
        {
          "output_type": "display_data",
          "data": {
            "text/plain": [
              "<Figure size 432x288 with 2 Axes>"
            ],
            "image/png": "[encoded data removed]"
          },
          "metadata": {
            "needs_background": "light"
          }
        }
      ],
      "source": [
        "sns.heatmap(confusion_matrix(y_test, y_pred_test_gnb_umbral), annot=True, cmap='PuBu', fmt='0.0f', linewidths=0.25, \n",
        "           annot_kws={'size':13} )\n",
        "plt.xlabel('Predichos')\n",
        "plt.ylabel('Reales')\n",
        "\n",
        "print('Accuracy del modelo de NaiveBayes (Testeo):    ', accuracy_score(y_test, y_pred_test_gnb_umbral).round(3))\n",
        "print('Recall del modelo de Naive Bayes (Testeo):     ', recall_score(y_test, y_pred_test_gnb_umbral).round(3))"
      ],
      "id": "ab01b665"
    },
    {
      "cell_type": "markdown",
      "metadata": {
        "id": "2690ec3d"
      },
      "source": [
        "## 3. Modelo de AdaBoost"
      ],
      "id": "2690ec3d"
    },
    {
      "cell_type": "code",
      "execution_count": null,
      "metadata": {
        "id": "344ee0ee"
      },
      "outputs": [],
      "source": [
        "dtc = DecisionTreeClassifier(max_depth = 2, \n",
        "                             min_samples_split = 6)\n",
        "\n",
        "ada = AdaBoostClassifier(base_estimator = dtc, \n",
        "                         n_estimators = 650,\n",
        "                         learning_rate = 0.7)"
      ],
      "id": "344ee0ee"
    },
    {
      "cell_type": "code",
      "execution_count": null,
      "metadata": {
        "id": "cf2086f5"
      },
      "outputs": [],
      "source": [
        "ada.fit(X_train, y_train)\n",
        "\n",
        "y_train_pred_ada = ada.predict(X_train)"
      ],
      "id": "cf2086f5"
    },
    {
      "cell_type": "code",
      "execution_count": null,
      "metadata": {
        "id": "8a608c6d",
        "outputId": "d8dcb436-124b-455d-a5cb-f6fb5821a0dc",
        "colab": {
          "base_uri": "https://localhost:8080/",
          "height": 337
        }
      },
      "outputs": [
        {
          "output_type": "execute_result",
          "data": {
            "text/plain": [
              "<matplotlib.legend.Legend at 0x7f831f7e2510>"
            ]
          },
          "metadata": {},
          "execution_count": 30
        },
        {
          "output_type": "display_data",
          "data": {
            "text/plain": [
              "<Figure size 936x360 with 1 Axes>"
            ],
            "image/png": "[encoded data removed]"
          },
          "metadata": {
            "needs_background": "light"
          }
        }
      ],
      "source": [
        "# Histograma de probabilidades\n",
        "fig, ax01 = plt.subplots(1,1 , figsize=(13,5))\n",
        "sns.histplot(data = ada.predict_proba(X_train[y_train==0])[:,1], stat = 'density', ax=ax01)\n",
        "sns.histplot(data = ada.predict_proba(X_train[y_train==1])[:,1], stat = 'density', color = 'orange', ax=ax01)\n",
        "ylim = plt.ylim()\n",
        "plt.vlines(0.2, ylim[0], ylim[1])\n",
        "plt.ylim(ylim)\n",
        "plt.legend(['Umbral', 'TenYearCHD = 0', 'TenYearCHD = 1'])"
      ],
      "id": "8a608c6d"
    },
    {
      "cell_type": "markdown",
      "metadata": {
        "id": "780df288"
      },
      "source": [
        "+ ### Comportamiento en entrenamiento"
      ],
      "id": "780df288"
    },
    {
      "cell_type": "code",
      "execution_count": null,
      "metadata": {
        "id": "60e7793c"
      },
      "outputs": [],
      "source": [
        "umbral = 0.5\n",
        "probs = ada.predict_proba(X_train)[:,1]\n",
        "y_pred_train_ada_umbral = probs > umbral"
      ],
      "id": "60e7793c"
    },
    {
      "cell_type": "code",
      "execution_count": null,
      "metadata": {
        "id": "5784093d",
        "outputId": "dfb8164b-61d9-49f6-8c7c-9423e30d9fd6",
        "colab": {
          "base_uri": "https://localhost:8080/",
          "height": 314
        }
      },
      "outputs": [
        {
          "output_type": "stream",
          "name": "stdout",
          "text": [
            "Accuracy del modelo de AdaBoost:     1.0\n",
            "Recall del modelo de AdaBoost:     1.0\n"
          ]
        },
        {
          "output_type": "display_data",
          "data": {
            "text/plain": [
              "<Figure size 432x288 with 2 Axes>"
            ],
            "image/png": "[encoded data removed]"
          },
          "metadata": {
            "needs_background": "light"
          }
        }
      ],
      "source": [
        "sns.heatmap(confusion_matrix(y_train, y_pred_train_ada_umbral), annot=True, cmap='PuBu', fmt='0.0f', linewidths=0.25, \n",
        "           annot_kws={'size':13} )\n",
        "plt.xlabel('Predichos')\n",
        "plt.ylabel('Reales')\n",
        "\n",
        "print('Accuracy del modelo de AdaBoost:    ', accuracy_score(y_train, y_pred_train_ada_umbral).round(3))\n",
        "print('Recall del modelo de AdaBoost:    ', recall_score(y_train, y_pred_train_ada_umbral).round(3))"
      ],
      "id": "5784093d"
    },
    {
      "cell_type": "markdown",
      "metadata": {
        "id": "0f548905"
      },
      "source": [
        "+ ### Comportamiento en testeo"
      ],
      "id": "0f548905"
    },
    {
      "cell_type": "code",
      "execution_count": null,
      "metadata": {
        "id": "c0414386"
      },
      "outputs": [],
      "source": [
        "probs = ada.predict_proba(X_test)[:,1]\n",
        "y_pred_test_ada_umbral = probs > umbral"
      ],
      "id": "c0414386"
    },
    {
      "cell_type": "code",
      "execution_count": null,
      "metadata": {
        "id": "e37b9741",
        "outputId": "bff97db8-0d45-494c-ccb9-1dd75893a7d2",
        "colab": {
          "base_uri": "https://localhost:8080/",
          "height": 314
        }
      },
      "outputs": [
        {
          "output_type": "stream",
          "name": "stdout",
          "text": [
            "Accuracy del modelo de AdaBoost (Testeo):     0.803\n",
            "Recall del modelo de AdaBoost (Testeo):     0.137\n"
          ]
        },
        {
          "output_type": "display_data",
          "data": {
            "text/plain": [
              "<Figure size 432x288 with 2 Axes>"
            ],
            "image/png": "[encoded data removed]"
          },
          "metadata": {
            "needs_background": "light"
          }
        }
      ],
      "source": [
        "sns.heatmap(confusion_matrix(y_test, y_pred_test_ada_umbral), annot=True, cmap='PuBu', fmt='0.0f', linewidths=0.25, \n",
        "           annot_kws={'size':13} )\n",
        "plt.xlabel('Predichos')\n",
        "plt.ylabel('Reales')\n",
        "\n",
        "print('Accuracy del modelo de AdaBoost (Testeo):    ', accuracy_score(y_test, y_pred_test_ada_umbral).round(3))\n",
        "print('Recall del modelo de AdaBoost (Testeo):    ', recall_score(y_test, y_pred_test_ada_umbral).round(3))"
      ],
      "id": "e37b9741"
    },
    {
      "cell_type": "code",
      "execution_count": null,
      "metadata": {
        "id": "058e0205"
      },
      "outputs": [],
      "source": [
        ""
      ],
      "id": "058e0205"
    },
    {
      "cell_type": "markdown",
      "metadata": {
        "id": "450b2ba9"
      },
      "source": [
        "## 4.Optimización de hiperparámetros"
      ],
      "id": "450b2ba9"
    },
    {
      "cell_type": "code",
      "execution_count": null,
      "metadata": {
        "id": "51a1c72f"
      },
      "outputs": [],
      "source": [
        "dtc = DecisionTreeClassifier(max_depth = 2, \n",
        "                             min_samples_split = 6)\n",
        "\n",
        "#lrc = LogisticRegression(penalty='l2', C=1.0, class_weight='balanced', solver='saga', tol=0.001, max_iter=1500)\n",
        "\n",
        "ada = AdaBoostClassifier(base_estimator = dtc, \n",
        "                         n_estimators = 650,\n",
        "                         learning_rate = 0.7)"
      ],
      "id": "51a1c72f"
    },
    {
      "cell_type": "code",
      "execution_count": null,
      "metadata": {
        "id": "cfc60cb9"
      },
      "outputs": [],
      "source": [
        "param_grid = {'base_estimator__max_depth': [2, 3, 5],\n",
        "              'base_estimator__min_samples_split': [6, 24, 96],\n",
        "              'base_estimator__max_features': [None, 10, 6],\n",
        "              'base_estimator__class_weight': [None, 'balanced'],\n",
        "              'base_estimator__splitter': [\"best\", \"random\"],\n",
        "              'n_estimators': [10, 30, 100],\n",
        "              'learning_rate': [0.3, 0.5, 0.7]\n",
        "             }"
      ],
      "id": "cfc60cb9"
    },
    {
      "cell_type": "code",
      "execution_count": null,
      "metadata": {
        "id": "fc65e57a"
      },
      "outputs": [],
      "source": [
        "#scorer = make_scorer(fbeta_score, beta=4)\n",
        "\n",
        "grid_obj = GridSearchCV(ada, param_grid, scoring = 'recall', n_jobs=3, verbose=1, cv=3)"
      ],
      "id": "fc65e57a"
    },
    {
      "cell_type": "code",
      "execution_count": null,
      "metadata": {
        "id": "8395e5e2",
        "outputId": "b834c24e-2957-44bb-f441-6bd1b2d97a25",
        "colab": {
          "base_uri": "https://localhost:8080/"
        }
      },
      "outputs": [
        {
          "output_type": "stream",
          "name": "stdout",
          "text": [
            "Fitting 3 folds for each of 972 candidates, totalling 2916 fits\n"
          ]
        }
      ],
      "source": [
        "grid_fit = grid_obj.fit(X_train, y_train)"
      ],
      "id": "8395e5e2"
    },
    {
      "cell_type": "code",
      "execution_count": null,
      "metadata": {
        "id": "630b0515",
        "outputId": "b6b0b21f-359c-4689-c788-fac1495a4080",
        "colab": {
          "base_uri": "https://localhost:8080/"
        }
      },
      "outputs": [
        {
          "output_type": "stream",
          "name": "stdout",
          "text": [
            "{'base_estimator__class_weight': 'balanced', 'base_estimator__max_depth': 2, 'base_estimator__max_features': None, 'base_estimator__min_samples_split': 6, 'base_estimator__splitter': 'random', 'learning_rate': 0.3, 'n_estimators': 10}\n",
            "0.6985097636176772\n"
          ]
        }
      ],
      "source": [
        "best_ada = grid_fit.best_estimator_\n",
        "print(grid_fit.best_params_)\n",
        "print(grid_fit.best_score_)\n",
        "y_train_pred_ada_opt = best_ada.predict(X_train)\n",
        "y_test_pred_ada_opt = best_ada.predict(X_test)"
      ],
      "id": "630b0515"
    },
    {
      "cell_type": "code",
      "execution_count": null,
      "metadata": {
        "id": "ccb9fc2b"
      },
      "outputs": [],
      "source": [
        ""
      ],
      "id": "ccb9fc2b"
    },
    {
      "cell_type": "code",
      "execution_count": null,
      "metadata": {
        "id": "ae587eba",
        "outputId": "f49ce372-5781-4789-c651-390a25f5b79c",
        "colab": {
          "base_uri": "https://localhost:8080/"
        }
      },
      "outputs": [
        {
          "output_type": "stream",
          "name": "stdout",
          "text": [
            "Accuracy del modelo de AdaBoost optimizado:     0.654\n",
            "Recall del modelo de AdaBoost optimizado:     0.682\n"
          ]
        },
        {
          "output_type": "display_data",
          "data": {
            "text/plain": [
              "<Figure size 432x288 with 2 Axes>"
            ],
            "image/png": "[encoded data removed]"
          },
          "metadata": {
            "needs_background": "light"
          }
        }
      ],
      "source": [
        "sns.heatmap(confusion_matrix(y_train, y_train_pred_ada_opt), annot=True, cmap='PuBu', fmt='0.0f', linewidths=0.25, \n",
        "           annot_kws={'size':13} )\n",
        "plt.xlabel('Predichos')\n",
        "plt.ylabel('Reales')\n",
        "\n",
        "print('Accuracy del modelo de AdaBoost optimizado:    ', accuracy_score(y_train, y_train_pred_ada_opt).round(3))\n",
        "print('Recall del modelo de AdaBoost optimizado:    ', recall_score(y_train, y_train_pred_ada_opt).round(3))"
      ],
      "id": "ae587eba"
    },
    {
      "cell_type": "code",
      "execution_count": null,
      "metadata": {
        "id": "ecc16624"
      },
      "outputs": [],
      "source": [
        ""
      ],
      "id": "ecc16624"
    },
    {
      "cell_type": "code",
      "execution_count": null,
      "metadata": {
        "id": "9de709fd",
        "outputId": "36be8c3e-3aa1-4945-c45f-ae8fd016dc57",
        "colab": {
          "base_uri": "https://localhost:8080/"
        }
      },
      "outputs": [
        {
          "output_type": "stream",
          "name": "stdout",
          "text": [
            "Accuracy del modelo de AdaBoost optimizado (Testeo):     0.677\n",
            "Recall del modelo de AdaBoost optimizado (Testeo):       0.698\n"
          ]
        },
        {
          "output_type": "display_data",
          "data": {
            "text/plain": [
              "<Figure size 432x288 with 2 Axes>"
            ],
            "image/png": "[encoded data removed]"
          },
          "metadata": {
            "needs_background": "light"
          }
        }
      ],
      "source": [
        "sns.heatmap(confusion_matrix(y_test, y_test_pred_ada_opt), annot=True, cmap='PuBu', fmt='0.0f', linewidths=0.25, \n",
        "           annot_kws={'size':13} )\n",
        "plt.xlabel('Predichos')\n",
        "plt.ylabel('Reales')\n",
        "\n",
        "print('Accuracy del modelo de AdaBoost optimizado (Testeo):    ', accuracy_score(y_test, y_test_pred_ada_opt).round(3))\n",
        "print('Recall del modelo de AdaBoost optimizado (Testeo):      ', recall_score(y_test, y_test_pred_ada_opt).round(3))"
      ],
      "id": "9de709fd"
    },
    {
      "cell_type": "code",
      "execution_count": null,
      "metadata": {
        "id": "e35507d2"
      },
      "outputs": [],
      "source": [
        ""
      ],
      "id": "e35507d2"
    },
    {
      "cell_type": "code",
      "execution_count": null,
      "metadata": {
        "id": "78ec29d3"
      },
      "outputs": [],
      "source": [
        ""
      ],
      "id": "78ec29d3"
    },
    {
      "cell_type": "code",
      "execution_count": null,
      "metadata": {
        "id": "c2414dc9"
      },
      "outputs": [],
      "source": [
        ""
      ],
      "id": "c2414dc9"
    },
    {
      "cell_type": "code",
      "execution_count": null,
      "metadata": {
        "id": "c20a1e87"
      },
      "outputs": [],
      "source": [
        ""
      ],
      "id": "c20a1e87"
    },
    {
      "cell_type": "code",
      "execution_count": null,
      "metadata": {
        "id": "5a07bf50"
      },
      "outputs": [],
      "source": [
        ""
      ],
      "id": "5a07bf50"
    },
    {
      "cell_type": "code",
      "execution_count": null,
      "metadata": {
        "id": "d4253b16"
      },
      "outputs": [],
      "source": [
        ""
      ],
      "id": "d4253b16"
    },
    {
      "cell_type": "code",
      "execution_count": null,
      "metadata": {
        "id": "d42bb772"
      },
      "outputs": [],
      "source": [
        ""
      ],
      "id": "d42bb772"
    },
    {
      "cell_type": "code",
      "execution_count": null,
      "metadata": {
        "id": "f51e80df"
      },
      "outputs": [],
      "source": [
        ""
      ],
      "id": "f51e80df"
    },
    {
      "cell_type": "code",
      "execution_count": null,
      "metadata": {
        "id": "f48d9edc"
      },
      "outputs": [],
      "source": [
        ""
      ],
      "id": "f48d9edc"
    },
    {
      "cell_type": "code",
      "execution_count": null,
      "metadata": {
        "id": "f85c46de"
      },
      "outputs": [],
      "source": [
        ""
      ],
      "id": "f85c46de"
    },
    {
      "cell_type": "code",
      "execution_count": null,
      "metadata": {
        "id": "9326d3b2"
      },
      "outputs": [],
      "source": [
        ""
      ],
      "id": "9326d3b2"
    },
    {
      "cell_type": "code",
      "execution_count": null,
      "metadata": {
        "id": "a5665409"
      },
      "outputs": [],
      "source": [
        ""
      ],
      "id": "a5665409"
    },
    {
      "cell_type": "code",
      "execution_count": null,
      "metadata": {
        "id": "e1e9fbc1"
      },
      "outputs": [],
      "source": [
        ""
      ],
      "id": "e1e9fbc1"
    }
  ],
  "metadata": {
    "colab": {
      "collapsed_sections": [],
      "name": "Modelos_de_Clasificacion.ipynb",
      "provenance": [],
      "include_colab_link": true
    },
    "kernelspec": {
      "display_name": "Python 3 (ipykernel)",
      "language": "python",
      "name": "python3"
    },
    "language_info": {
      "codemirror_mode": {
        "name": "ipython",
        "version": 3
      },
      "file_extension": ".py",
      "mimetype": "text/x-python",
      "name": "python",
      "nbconvert_exporter": "python",
      "pygments_lexer": "ipython3",
      "version": "3.8.11"
    }
  },
  "nbformat": 4,
  "nbformat_minor": 5
}